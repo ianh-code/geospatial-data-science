{
 "cells": [
  {
   "cell_type": "markdown",
   "id": "2242951c-bafd-46a2-8305-f443b0b58d47",
   "metadata": {},
   "source": [
    "**A.I. Disclaimer: All work for this assignment was completed by myself and entirely without the use of artificial intelligence tools such as ChatGPT, MS Copilot, other LLMs, etc.**"
   ]
  },
  {
   "cell_type": "code",
   "execution_count": 2,
   "id": "a67e4f13-416f-4ca3-a272-ad74d5ae2698",
   "metadata": {},
   "outputs": [
    {
     "name": "stdout",
     "output_type": "stream",
     "text": [
      "15\n"
     ]
    }
   ],
   "source": [
    "import numpy as np\n",
    "a = 3\n",
    "b = 5\n",
    "c = np.multiply(a, b)\n",
    "print(c)"
   ]
  },
  {
   "attachments": {},
   "cell_type": "markdown",
   "id": "52084991-ab54-4a0a-ae12-895cd0eda372",
   "metadata": {},
   "source": [
    "![A Lovely Forest in the Autumn](https://cdn.wallpapersafari.com/55/57/ntEam8.jpg)\n",
    "A *lovely* forest in the **Autumn**. (https://cdn.wallpapersafari.com/55/57/ntEam8.jpg)"
   ]
  },
  {
   "cell_type": "code",
   "execution_count": null,
   "id": "44a9c0cd-1cf3-415c-886a-7570d39802b7",
   "metadata": {},
   "outputs": [],
   "source": []
  }
 ],
 "metadata": {
  "kernelspec": {
   "display_name": "Python 3 (ipykernel)",
   "language": "python",
   "name": "python3"
  },
  "language_info": {
   "codemirror_mode": {
    "name": "ipython",
    "version": 3
   },
   "file_extension": ".py",
   "mimetype": "text/x-python",
   "name": "python",
   "nbconvert_exporter": "python",
   "pygments_lexer": "ipython3",
   "version": "3.12.7"
  }
 },
 "nbformat": 4,
 "nbformat_minor": 5
}
